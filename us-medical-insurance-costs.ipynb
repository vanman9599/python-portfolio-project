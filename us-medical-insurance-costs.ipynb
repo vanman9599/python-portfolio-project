{
 "cells": [
  {
   "cell_type": "markdown",
   "metadata": {},
   "source": [
    "# U.S. Medical Insurance Costs"
   ]
  },
  {
   "cell_type": "code",
   "execution_count": 123,
   "metadata": {},
   "outputs": [],
   "source": [
    "import csv\n",
    "from decimal import Decimal\n",
    "\n"
   ]
  },
  {
   "cell_type": "code",
   "execution_count": 124,
   "metadata": {},
   "outputs": [],
   "source": [
    "class Insurance:\n",
    "       \n",
    "        def compare_costs(self, category, compare1, compare2):\n",
    "            with open('insurance.csv', newline='') as insurance_file:\n",
    "                ins_dict = csv.DictReader(insurance_file)\n",
    "                total1 = 0\n",
    "                count1 = 0\n",
    "                count2 = 0\n",
    "                total2 = 0\n",
    "            \n",
    "                for row in ins_dict:\n",
    "                    if row[category] == compare1:\n",
    "                        total1= total1 + Decimal(row['charges'])\n",
    "                        count1 += 1\n",
    "                    elif row[category] == compare2:\n",
    "                        total2 = total2 + Decimal(row['charges'])\n",
    "                        count2 += 1\n",
    "                avg1 = round(total1/count1, 2)\n",
    "                avg2 = round(total2/count2, 2)\n",
    "                return \"Avg cost for {category} with value of {compare1} is: {avg1} \\n Avg cost for {category} with value of {compare2} is: {avg2}\".format(compare1=compare1, compare2=compare2,category=category, avg1=avg1,avg2=avg2)\n",
    "\n",
    "        def compare_ages(self):\n",
    "            with open('insurance.csv', newline='') as insurance_file:\n",
    "                ins_dict = csv.DictReader(insurance_file)\n",
    "                age1 = 0\n",
    "                count1 = 0\n",
    "                age2 = 0\n",
    "                count2 = 0\n",
    "                age3 = 0\n",
    "                count3 = 0\n",
    "                age4 = 0\n",
    "                count4 = 0\n",
    "                age5 = 0\n",
    "                count5 = 0\n",
    "                for row in ins_dict:\n",
    "                    age = int(row['age'])\n",
    "                    charges = Decimal(row['charges'])\n",
    "                    if age >= 18 and age <= 25:\n",
    "                        count1 += 1\n",
    "                        age1 = age1 + charges\n",
    "                    elif age >= 26 and age <= 35:\n",
    "                        count2 += 1\n",
    "                        age2 = age2 + charges\n",
    "                    elif age >= 36 and age <=50:\n",
    "                        count3 += 1\n",
    "                        age3 = age3 + charges\n",
    "                    elif age >= 51 and age <=65:\n",
    "                        count4 += 1\n",
    "                        age4 = age4 + charges\n",
    "                    \n",
    "                        \n",
    "                avg1 = round(age1/count1, 2)\n",
    "                avg2 = round(age2/count2, 2)\n",
    "                avg3 = round(age3/count3, 2)\n",
    "                avg4 = round(age4/count4, 2)\n",
    "                \n",
    "                return \"Ages: 18-25: {avg1} \\nAges 26-35: {avg2}\\nAges36-50: {avg3}\\nAges 51-65: {avg4}\".format(avg1=avg1,avg2=avg2, avg3=avg3, avg4=avg4)   \n",
    "                    "
   ]
  },
  {
   "cell_type": "markdown",
   "metadata": {},
   "source": [
    "\n",
    "## How much does smoking contribute to insurance cost?"
   ]
  },
  {
   "cell_type": "code",
   "execution_count": 125,
   "metadata": {
    "scrolled": false
   },
   "outputs": [
    {
     "name": "stdout",
     "output_type": "stream",
     "text": [
      "Avg cost for smoker with value of yes is: 32050.23 \n",
      " Avg cost for smoker with value of no is: 8434.27\n"
     ]
    }
   ],
   "source": [
    "ins = Insurance()\n",
    "smokers = ins.compare_costs('smoker', 'yes', 'no')\n",
    "print(smokers)"
   ]
  },
  {
   "cell_type": "markdown",
   "metadata": {},
   "source": [
    "**Smoking appears to factor heavily in insurance costs**"
   ]
  },
  {
   "cell_type": "markdown",
   "metadata": {},
   "source": [
    "## Do women or men pay more for insurance?"
   ]
  },
  {
   "cell_type": "code",
   "execution_count": 126,
   "metadata": {},
   "outputs": [
    {
     "name": "stdout",
     "output_type": "stream",
     "text": [
      "Avg cost for sex with value of female is: 12569.58 \n",
      " Avg cost for sex with value of male is: 13956.75\n"
     ]
    }
   ],
   "source": [
    "ins = Insurance()\n",
    "sexes = ins.compare_costs('sex', 'female', 'male')\n",
    "print(sexes)"
   ]
  },
  {
   "cell_type": "markdown",
   "metadata": {},
   "source": [
    "## Cost by age\n"
   ]
  },
  {
   "cell_type": "code",
   "execution_count": 127,
   "metadata": {},
   "outputs": [
    {
     "name": "stdout",
     "output_type": "stream",
     "text": [
      "Ages: 18-25: 9087.02 \n",
      "Ages 26-35: 10495.16\n",
      "Ages36-50: 14030.00\n",
      "Ages 51-65: 18084.99\n"
     ]
    }
   ],
   "source": [
    "ins = Insurance()\n",
    "ages = ins.compare_ages()\n",
    "print(ages)"
   ]
  }
 ],
 "metadata": {
  "kernelspec": {
   "display_name": "Python 3",
   "language": "python",
   "name": "python3"
  },
  "language_info": {
   "codemirror_mode": {
    "name": "ipython",
    "version": 3
   },
   "file_extension": ".py",
   "mimetype": "text/x-python",
   "name": "python",
   "nbconvert_exporter": "python",
   "pygments_lexer": "ipython3",
   "version": "3.8.5"
  }
 },
 "nbformat": 4,
 "nbformat_minor": 4
}
